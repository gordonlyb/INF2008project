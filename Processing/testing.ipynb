{
 "cells": [
  {
   "cell_type": "code",
   "execution_count": 28,
   "metadata": {},
   "outputs": [],
   "source": [
    "import pandas as pd\n",
    "from sklearn.preprocessing import OneHotEncoder\n",
    "\n",
    "def town_encoding(df):\n",
    "    if \"town\" in df.columns:\n",
    "        encoder = OneHotEncoder(sparse_output=False, drop='first')  # Drop first column to avoid redundancy\n",
    "        town_encoded = encoder.fit_transform(df[['town']])\n",
    "        town_df = pd.DataFrame(town_encoded, columns=encoder.get_feature_names_out(['town']), index=df.index)\n",
    "        \n",
    "        df = df.drop(columns=['town'])  # Drop original column\n",
    "        df = pd.concat([df, town_df], axis=1)  # Merge encoded columns\n",
    "    return df"
   ]
  },
  {
   "cell_type": "code",
   "execution_count": 29,
   "metadata": {},
   "outputs": [],
   "source": [
    "def flat_encoding(df):\n",
    "    if \"flat_type\" in df.columns:\n",
    "        encoder = OneHotEncoder(sparse_output=False, drop='first')  \n",
    "        flat_encoded = encoder.fit_transform(df[['flat_type']])\n",
    "        flat_df = pd.DataFrame(flat_encoded, columns=encoder.get_feature_names_out(['flat_type']), index=df.index)\n",
    "        \n",
    "        df = df.drop(columns=['flat_type'])  \n",
    "        df = pd.concat([df, flat_df], axis=1)  \n",
    "    return df"
   ]
  },
  {
   "cell_type": "code",
   "execution_count": 30,
   "metadata": {},
   "outputs": [],
   "source": [
    "def load_and_process(file_path, output_path):\n",
    "    try:\n",
    "        df = pd.read_csv(file_path)\n",
    "\n",
    "        # Drop unnecessary columns (e.g., 'date' column if it exists)\n",
    "        df.drop(columns=['date'], inplace=True, errors='ignore')\n",
    "\n",
    "        df = town_encoding(df)\n",
    "        df = flat_encoding(df)\n",
    "\n",
    "        df.to_csv(output_path, index=False)\n",
    "        print(f\"Processed data saved to: {output_path}\")\n",
    "\n",
    "        return df\n",
    "\n",
    "    except FileNotFoundError:\n",
    "        print(f\"Error: File '{file_path}' not found.\")\n",
    "        return None"
   ]
  },
  {
   "cell_type": "code",
   "execution_count": null,
   "metadata": {},
   "outputs": [],
   "source": []
  },
  {
   "cell_type": "code",
   "execution_count": 31,
   "metadata": {},
   "outputs": [
    {
     "name": "stdout",
     "output_type": "stream",
     "text": [
      "Processed data saved to: ../Dataset/Updated_Resaleflatprices.csv\n",
      "Processed Data Sample:\n",
      "     month block        street_name storey_range  floor_area_sqm  \\\n",
      "0  2017-01   406  ANG MO KIO AVE 10     10 TO 12            44.0   \n",
      "1  2017-01   108   ANG MO KIO AVE 4     01 TO 03            67.0   \n",
      "2  2017-01   602   ANG MO KIO AVE 5     01 TO 03            67.0   \n",
      "3  2017-01   465  ANG MO KIO AVE 10     04 TO 06            68.0   \n",
      "4  2017-01   601   ANG MO KIO AVE 5     01 TO 03            67.0   \n",
      "\n",
      "       flat_model  lease_commence_date     remaining_lease  resale_price  \\\n",
      "0        Improved                 1979  61 years 04 months      232000.0   \n",
      "1  New Generation                 1978  60 years 07 months      250000.0   \n",
      "2  New Generation                 1980  62 years 05 months      262000.0   \n",
      "3  New Generation                 1980   62 years 01 month      265000.0   \n",
      "4  New Generation                 1980  62 years 05 months      265000.0   \n",
      "\n",
      "   town_BEDOK  ...  town_TAMPINES  town_TOA PAYOH  town_WOODLANDS  \\\n",
      "0         0.0  ...            0.0             0.0             0.0   \n",
      "1         0.0  ...            0.0             0.0             0.0   \n",
      "2         0.0  ...            0.0             0.0             0.0   \n",
      "3         0.0  ...            0.0             0.0             0.0   \n",
      "4         0.0  ...            0.0             0.0             0.0   \n",
      "\n",
      "   town_YISHUN  flat_type_2 ROOM  flat_type_3 ROOM  flat_type_4 ROOM  \\\n",
      "0          0.0               1.0               0.0               0.0   \n",
      "1          0.0               0.0               1.0               0.0   \n",
      "2          0.0               0.0               1.0               0.0   \n",
      "3          0.0               0.0               1.0               0.0   \n",
      "4          0.0               0.0               1.0               0.0   \n",
      "\n",
      "   flat_type_5 ROOM  flat_type_EXECUTIVE  flat_type_MULTI-GENERATION  \n",
      "0               0.0                  0.0                         0.0  \n",
      "1               0.0                  0.0                         0.0  \n",
      "2               0.0                  0.0                         0.0  \n",
      "3               0.0                  0.0                         0.0  \n",
      "4               0.0                  0.0                         0.0  \n",
      "\n",
      "[5 rows x 40 columns]\n"
     ]
    }
   ],
   "source": [
    "if __name__ == \"__main__\":\n",
    "    input_file = \"../Dataset/Resaleflatprices.csv\"  # Adjust path if needed\n",
    "    output_file = \"../Dataset/Updated_Resaleflatprices.csv\"  # Output file\n",
    "\n",
    "    processed_df = load_and_process(input_file, output_file)\n",
    "\n",
    "    if processed_df is not None:\n",
    "        print(\"Processed Data Sample:\")\n",
    "        print(processed_df.head())"
   ]
  }
 ],
 "metadata": {
  "kernelspec": {
   "display_name": "Python 3",
   "language": "python",
   "name": "python3"
  },
  "language_info": {
   "codemirror_mode": {
    "name": "ipython",
    "version": 3
   },
   "file_extension": ".py",
   "mimetype": "text/x-python",
   "name": "python",
   "nbconvert_exporter": "python",
   "pygments_lexer": "ipython3",
   "version": "3.12.9"
  }
 },
 "nbformat": 4,
 "nbformat_minor": 2
}
